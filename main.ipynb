{
  "cells": [
    {
      "cell_type": "code",
      "execution_count": 1,
      "metadata": {
        "colab": {
          "base_uri": "https://localhost:8080/"
        },
        "id": "m_BfAu_XPWub",
        "outputId": "693f18da-464b-47dc-8e40-b70491dae910"
      },
      "outputs": [],
      "source": [
        "import pandas as pd\n",
        "mental_df = pd.read_csv(\"mental_health.csv\")"
      ]
    },
    {
      "cell_type": "code",
      "execution_count": 2,
      "metadata": {
        "colab": {
          "base_uri": "https://localhost:8080/"
        },
        "id": "pgOHD229Pqb0",
        "outputId": "c3cf9c1d-6a92-4e6b-83f6-17605c9d297e"
      },
      "outputs": [],
      "source": [
        "mental_df.head()\n",
        "mental_df = mental_df[['Symptoms', 'Diagnosis / Condition', 'Previous Diagnosis', 'Self-care Advice', 'Suggested Therapy', 'Duration (weeks)']]"
      ]
    },
    {
      "cell_type": "code",
      "execution_count": 3,
      "metadata": {},
      "outputs": [],
      "source": [
        "mental_df = mental_df.rename(columns= {\n",
        "    'Diagnosis / Condition' : 'Diagnosis',\n",
        "    'Self-care Advice': 'Self_Care_Advice',\n",
        "    'Suggested Therapy': 'Suggested_Therapy',\n",
        "    'Duration (weeks)': 'Duration',\n",
        "    'Previous Diagnosis': 'Prev_Diagnosis'\n",
        "})"
      ]
    },
    {
      "cell_type": "code",
      "execution_count": 4,
      "metadata": {
        "id": "1rl9DKaPRJ4-"
      },
      "outputs": [
        {
          "name": "stdout",
          "output_type": "stream",
          "text": [
            "['Support Groups' 'Cognitive Behavioral Therapy' 'Psychotherapy'\n",
            " 'Mindfulness-Based Therapy' 'No Therapy Needed']\n",
            "['Panic Disorder' 'Depression' 'Anxiety' 'Burnout' 'Stress']\n"
          ]
        }
      ],
      "source": [
        "therapy_unique_values = mental_df['Suggested_Therapy'].unique()\n",
        "diagnosis_unique_values = mental_df['Diagnosis'].unique()\n",
        "print(therapy_unique_values)\n",
        "print(diagnosis_unique_values)"
      ]
    },
    {
      "cell_type": "markdown",
      "metadata": {},
      "source": [
        "A label encoder is a technique that converts non-numerical data into numerical values, \n",
        "which is useful for machine learning and data analysis. It's often used when working with categorical data, such as ordinal data, where there's a hierarchy among the values"
      ]
    },
    {
      "cell_type": "code",
      "execution_count": 5,
      "metadata": {},
      "outputs": [
        {
          "name": "stdout",
          "output_type": "stream",
          "text": [
            "5000\n",
            "5000\n",
            "5000\n",
            "5000\n",
            "5000\n",
            "5000\n"
          ]
        }
      ],
      "source": [
        "mental_df.columns\n",
        "print(len(mental_df['Symptoms']))\n",
        "print(len(mental_df['Diagnosis']))\n",
        "print(len(mental_df['Self_Care_Advice']))\n",
        "print(len(mental_df['Suggested_Therapy']))\n",
        "print(len(mental_df['Duration']))\n",
        "print(len(mental_df['Prev_Diagnosis']))"
      ]
    },
    {
      "cell_type": "code",
      "execution_count": 8,
      "metadata": {},
      "outputs": [],
      "source": [
        "from sklearn.model_selection import train_test_split\n",
        "from sklearn.ensemble import RandomForestClassifier\n",
        "from sklearn.preprocessing import LabelEncoder\n",
        "from sklearn.metrics import classification_report\n",
        "\n",
        "def build_model():\n",
        "    le_diagnosis = LabelEncoder()\n",
        "    le_symtoms = LabelEncoder()\n",
        "    le_self_care = LabelEncoder()\n",
        "    le_therapy = LabelEncoder()\n",
        "    # mental_df['Duration'] is already int style, we don't have to encode it\n",
        "    \n",
        "    mental_df['Diagnosis_encoded'] = le_diagnosis.fit_transform(mental_df['Diagnosis'])\n",
        "    mental_df['Symptoms_encoded'] = le_symtoms.fit_transform(mental_df['Symptoms'])\n",
        "    mental_df['Self_Care_Advice_encoded'] = le_self_care.fit_transform(mental_df['Self_Care_Advice'])\n",
        "    mental_df['Suggested_Therapy_encoded'] = le_therapy.fit_transform(mental_df['Suggested_Therapy'])\n",
        "\n",
        "    # Training Data\n",
        "    X = mental_df[['Diagnosis_encoded', 'Symptoms_encoded']]\n",
        "    y_self_care = mental_df['Self_Care_Advice_encoded']\n",
        "    y_therapy = mental_df['Suggested_Therapy_encoded']\n",
        "\n",
        "    X_train, X_test, y_self_care_train, y_self_care_test, y_therapy_train, y_therapy_test = train_test_split(X, y_self_care, y_therapy, test_size=0.2, random_state=42)\n",
        "    # Train models for Self Care Advice and Suggested Therapy\n",
        "    model_self_care = RandomForestClassifier()\n",
        "    model_therapy = RandomForestClassifier()\n",
        "\n",
        "    model_self_care.fit(X_train, y_self_care_train)\n",
        "    model_therapy.fit(X_train, y_therapy_train)\n",
        "\n",
        "    # Make predictions\n",
        "    self_care_pred = model_self_care.predict(X_test)\n",
        "    therapy_pred = model_therapy.predict(X_test)\n",
        "\n",
        "    # Display classification reports\n",
        "    print(\"Self Care Advice Classification Report:\")\n",
        "    self_care_report = classification_report(y_self_care_test, self_care_pred, target_names=le_self_care.classes_)\n",
        "    print(self_care_report)\n",
        "    print(\"\\nSuggested Therapy Classification Report:\")\n",
        "    self_therapy_report = classification_report(y_therapy_test, therapy_pred, target_names=le_therapy.classes_)\n",
        "    print(self_therapy_report)\n",
        "    return model_self_care , model_therapy, le_diagnosis, le_symtoms, le_self_care, le_therapy, self_care_report, self_therapy_report"
      ]
    },
    {
      "cell_type": "markdown",
      "metadata": {},
      "source": [
        "# Initial Reports\n",
        "\n",
        "### Self Care Advice Classification Report\n",
        "\n",
        "| Self Care Advice       | Precision | Recall | F1-Score | Support |\n",
        "|------------------------|-----------|--------|----------|---------|\n",
        "| Breathing Exercises    | 0.20      | 0.17   | 0.18     | 166     |\n",
        "| Exercise               | 0.17      | 0.24   | 0.20     | 181     |\n",
        "| Journaling             | 0.32      | 0.14   | 0.20     | 191     |\n",
        "| Meditation             | 0.11      | 0.03   | 0.04     | 116     |\n",
        "| Take Breaks            | 0.17      | 0.33   | 0.23     | 164     |\n",
        "| Talk to a Friend       | 0.22      | 0.21   | 0.21     | 182     |\n",
        "| **Accuracy**           |           |        | 0.19     | 1000    |\n",
        "| **Macro Avg**          | 0.20      | 0.19   | 0.18     | 1000    |\n",
        "| **Weighted Avg**       | 0.21      | 0.19   | 0.18     | 1000    |\n",
        "\n",
        "### Suggested Therapy Classification Report\n",
        "\n",
        "| Suggested Therapy               | Precision | Recall | F1-Score | Support |\n",
        "|---------------------------------|-----------|--------|----------|---------|\n",
        "| Cognitive Behavioral Therapy    | 0.16      | 0.13   | 0.14     | 200     |\n",
        "| Mindfulness-Based Therapy       | 0.14      | 0.03   | 0.05     | 189     |\n",
        "| No Therapy Needed               | 0.17      | 0.09   | 0.11     | 187     |\n",
        "| Psychotherapy                   | 0.17      | 0.31   | 0.22     | 202     |\n",
        "| Support Groups                  | 0.24      | 0.34   | 0.28     | 222     |\n",
        "| **Accuracy**                    |           |        | 0.19     | 1000    |\n",
        "| **Macro Avg**                   | 0.17      | 0.18   | 0.16     | 1000    |\n",
        "| **Weighted Avg**                | 0.18      | 0.19   | 0.17     | 1000    |\n",
        "\n"
      ]
    },
    {
      "cell_type": "code",
      "execution_count": 9,
      "metadata": {},
      "outputs": [],
      "source": [
        "# model_self_care , model_therapy, le_diagnosis, le_symtoms, le_self_care, le_therapy, self_care_report, self_therapy_report = build_model()\n",
        "# Save model for purpose\n",
        "import joblib\n",
        "def save_model(model_self_care , model_therapy, le_diagnosis, le_symtoms, le_self_care, le_therapy ):\n",
        "    joblib.dump(model_self_care, \"model_self_care.pkl\")\n",
        "    joblib.dump(model_therapy, \"model_therapy.pkl\")\n",
        "    joblib.dump(le_diagnosis, \"le_diagnosis.pkl\")\n",
        "    joblib.dump(le_symtoms, \"le_symtoms.pkl\")\n",
        "    joblib.dump(le_self_care, \"le_self_care.pkl\")\n",
        "    joblib.dump(le_therapy, \"le_therapy.pkl\")\n",
        "\n",
        "# save_model(model_self_care , model_therapy, le_diagnosis, le_symtoms, le_self_care, le_therapy)"
      ]
    },
    {
      "cell_type": "code",
      "execution_count": 12,
      "metadata": {},
      "outputs": [
        {
          "name": "stdout",
          "output_type": "stream",
          "text": [
            "Self Care Advice Classification Report:\n",
            "                     precision    recall  f1-score   support\n",
            "\n",
            "Breathing Exercises       0.22      0.19      0.20       166\n",
            "           Exercise       0.17      0.22      0.19       181\n",
            "         Journaling       0.21      0.19      0.20       191\n",
            "         Meditation       0.06      0.03      0.04       116\n",
            "        Take Breaks       0.17      0.24      0.20       164\n",
            "   Talk to a Friend       0.18      0.16      0.17       182\n",
            "\n",
            "           accuracy                           0.18      1000\n",
            "          macro avg       0.17      0.17      0.17      1000\n",
            "       weighted avg       0.17      0.18      0.17      1000\n",
            "\n",
            "\n",
            "Suggested Therapy Classification Report:\n",
            "                              precision    recall  f1-score   support\n",
            "\n",
            "Cognitive Behavioral Therapy       0.22      0.17      0.19       200\n",
            "   Mindfulness-Based Therapy       0.18      0.16      0.17       189\n",
            "           No Therapy Needed       0.18      0.15      0.16       187\n",
            "               Psychotherapy       0.18      0.25      0.21       202\n",
            "              Support Groups       0.23      0.26      0.24       222\n",
            "\n",
            "                    accuracy                           0.20      1000\n",
            "                   macro avg       0.20      0.20      0.20      1000\n",
            "                weighted avg       0.20      0.20      0.20      1000\n",
            "\n"
          ]
        },
        {
          "data": {
            "text/plain": [
              "(RandomForestClassifier(),\n",
              " RandomForestClassifier(),\n",
              " LabelEncoder(),\n",
              " LabelEncoder(),\n",
              " LabelEncoder(),\n",
              " LabelEncoder(),\n",
              " '                     precision    recall  f1-score   support\\n\\nBreathing Exercises       0.22      0.19      0.20       166\\n           Exercise       0.17      0.22      0.19       181\\n         Journaling       0.21      0.19      0.20       191\\n         Meditation       0.06      0.03      0.04       116\\n        Take Breaks       0.17      0.24      0.20       164\\n   Talk to a Friend       0.18      0.16      0.17       182\\n\\n           accuracy                           0.18      1000\\n          macro avg       0.17      0.17      0.17      1000\\n       weighted avg       0.17      0.18      0.17      1000\\n',\n",
              " '                              precision    recall  f1-score   support\\n\\nCognitive Behavioral Therapy       0.22      0.17      0.19       200\\n   Mindfulness-Based Therapy       0.18      0.16      0.17       189\\n           No Therapy Needed       0.18      0.15      0.16       187\\n               Psychotherapy       0.18      0.25      0.21       202\\n              Support Groups       0.23      0.26      0.24       222\\n\\n                    accuracy                           0.20      1000\\n                   macro avg       0.20      0.20      0.20      1000\\n                weighted avg       0.20      0.20      0.20      1000\\n')"
            ]
          },
          "execution_count": 12,
          "metadata": {},
          "output_type": "execute_result"
        }
      ],
      "source": [
        "\n",
        "def test_build_model(mental_df):\n",
        "    \n",
        "    le_diagnosis = LabelEncoder()\n",
        "    le_symtoms = LabelEncoder()\n",
        "    le_self_care = LabelEncoder()\n",
        "    le_therapy = LabelEncoder()\n",
        "    le_prev_diagnosis = LabelEncoder()\n",
        "\n",
        "    mental_df['Diagnosis_encoded'] = le_diagnosis.fit_transform(mental_df['Diagnosis'])\n",
        "    mental_df['Symptoms_encoded'] = le_symtoms.fit_transform(mental_df['Symptoms'])\n",
        "    mental_df['Self_Care_Advice_encoded'] = le_self_care.fit_transform(mental_df['Self_Care_Advice'])\n",
        "    mental_df['Suggested_Therapy_encoded'] = le_therapy.fit_transform(mental_df['Suggested_Therapy'])\n",
        "    mental_df['Prev_Diagnosis_encoded'] = le_prev_diagnosis.fit_transform(mental_df['Prev_Diagnosis'])\n",
        "    \n",
        "    # mental_df['Duration'] It is already mental_df we don't have to label codes it\n",
        "\n",
        "    # Training Data with duration\n",
        "    \n",
        "    X = mental_df[['Diagnosis_encoded', 'Symptoms_encoded', 'Prev_Diagnosis_encoded']] \n",
        "    y_self_care = mental_df['Self_Care_Advice_encoded']\n",
        "    y_therapy = mental_df['Suggested_Therapy_encoded']\n",
        "\n",
        "    X_train, X_test, y_self_care_train, y_self_care_test, y_therapy_train, y_therapy_test = train_test_split(X, y_self_care, y_therapy, test_size=0.2, random_state=42)\n",
        "    # Train models for Self Care Advice and Suggested Therapy\n",
        "    model_self_care = RandomForestClassifier()\n",
        "    model_therapy = RandomForestClassifier()\n",
        "\n",
        "    model_self_care.fit(X_train, y_self_care_train)\n",
        "    model_therapy.fit(X_train, y_therapy_train)\n",
        "\n",
        "    # Make predictions\n",
        "    self_care_pred = model_self_care.predict(X_test)\n",
        "    therapy_pred = model_therapy.predict(X_test)\n",
        "\n",
        "    # Display classification reports\n",
        "    print(\"Self Care Advice Classification Report:\")\n",
        "    self_care_report = classification_report(y_self_care_test, self_care_pred, target_names=le_self_care.classes_)\n",
        "    print(self_care_report)\n",
        "    print(\"\\nSuggested Therapy Classification Report:\")\n",
        "    self_therapy_report = classification_report(y_therapy_test, therapy_pred, target_names=le_therapy.classes_)\n",
        "    print(self_therapy_report)\n",
        "    return model_self_care , model_therapy, le_diagnosis, le_symtoms, le_self_care, le_therapy, self_care_report, self_therapy_report\n",
        "\n",
        "test_build_model(mental_df)"
      ]
    },
    {
      "cell_type": "markdown",
      "metadata": {
        "tags": [
          "parameters"
        ]
      },
      "source": [
        "# Self Care Advice Classification Report with Based with durations.\n",
        "\n",
        "| Self Care Advice       | Precision | Recall | F1-Score | Support |\n",
        "|------------------------|-----------|--------|----------|---------|\n",
        "| Breathing Exercises    | 0.16      | 0.15   | 0.15     | 166     |\n",
        "| Exercise               | 0.18      | 0.18   | 0.18     | 181     |\n",
        "| Journaling             | 0.20      | 0.20   | 0.20     | 191     |\n",
        "| Meditation             | 0.09      | 0.07   | 0.08     | 116     |\n",
        "| Take Breaks            | 0.14      | 0.14   | 0.14     | 164     |\n",
        "| Talk to a Friend       | 0.16      | 0.18   | 0.17     | 182     |\n",
        "| **Accuracy**           |           |        | 0.16     | 1000    |\n",
        "| **Macro Avg**          | 0.15      | 0.15   | 0.15     | 1000    |\n",
        "| **Weighted Avg**       | 0.16      | 0.16   | 0.16     | 1000    |\n",
        "\n",
        "# Suggested Therapy Classification Report\n",
        "\n",
        "| Suggested Therapy               | Precision | Recall | F1-Score | Support |\n",
        "|---------------------------------|-----------|--------|----------|---------|\n",
        "| Cognitive Behavioral Therapy    | 0.20      | 0.23   | 0.21     | 200     |\n",
        "| Mindfulness-Based Therapy       | 0.17      | 0.16   | 0.16     | 189     |\n",
        "| No Therapy Needed               | 0.21      | 0.17   | 0.19     | 187     |\n",
        "| Psychotherapy                   | 0.22      | 0.23   | 0.22     | 202     |\n",
        "| Support Groups                  | 0.26      | 0.27   | 0.26     | 222     |\n",
        "| **Accuracy**                    |           |        | 0.21     | 1000    |\n",
        "| **Macro Avg**                   | 0.21      | 0.21   | 0.21     | 1000    |\n",
        "| **Weighted Avg**\n"
      ]
    },
    {
      "cell_type": "markdown",
      "metadata": {},
      "source": []
    }
  ],
  "metadata": {
    "colab": {
      "provenance": []
    },
    "kernelspec": {
      "display_name": "base",
      "language": "python",
      "name": "python3"
    },
    "language_info": {
      "codemirror_mode": {
        "name": "ipython",
        "version": 3
      },
      "file_extension": ".py",
      "mimetype": "text/x-python",
      "name": "python",
      "nbconvert_exporter": "python",
      "pygments_lexer": "ipython3",
      "version": "3.11.5"
    }
  },
  "nbformat": 4,
  "nbformat_minor": 0
}
