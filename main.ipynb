{
  "cells": [
    {
      "cell_type": "code",
      "execution_count": 1,
      "metadata": {
        "colab": {
          "base_uri": "https://localhost:8080/"
        },
        "id": "m_BfAu_XPWub",
        "outputId": "693f18da-464b-47dc-8e40-b70491dae910"
      },
      "outputs": [],
      "source": [
        "import pandas as pd\n",
        "mental_df = pd.read_csv(\"mental_health.csv\")"
      ]
    },
    {
      "cell_type": "code",
      "execution_count": 4,
      "metadata": {
        "colab": {
          "base_uri": "https://localhost:8080/"
        },
        "id": "pgOHD229Pqb0",
        "outputId": "c3cf9c1d-6a92-4e6b-83f6-17605c9d297e"
      },
      "outputs": [],
      "source": [
        "mental_df.head()\n",
        "mental_df = mental_df[['Symptoms', 'Diagnosis / Condition', 'Self-care Advice', 'Suggested Therapy']]"
      ]
    },
    {
      "cell_type": "code",
      "execution_count": 11,
      "metadata": {},
      "outputs": [],
      "source": [
        "mental_df = mental_df.rename(columns= {\n",
        "    'Diagnosis / Condition' : 'Diagnosis',\n",
        "    'Self-care Advice': 'Self_Care_Advice',\n",
        "    'Suggested Therapy': 'Suggested_Therapy'\n",
        "})"
      ]
    },
    {
      "cell_type": "code",
      "execution_count": 13,
      "metadata": {
        "id": "1rl9DKaPRJ4-"
      },
      "outputs": [
        {
          "name": "stdout",
          "output_type": "stream",
          "text": [
            "['Support Groups' 'Cognitive Behavioral Therapy' 'Psychotherapy'\n",
            " 'Mindfulness-Based Therapy' 'No Therapy Needed']\n",
            "['Panic Disorder' 'Depression' 'Anxiety' 'Burnout' 'Stress']\n"
          ]
        }
      ],
      "source": [
        "therapy_unique_values = mental_df['Suggested_Therapy'].unique()\n",
        "diagnosis_unique_values = mental_df['Diagnosis'].unique()\n",
        "print(therapy_unique_values)\n",
        "print(diagnosis_unique_values)"
      ]
    },
    {
      "cell_type": "code",
      "execution_count": null,
      "metadata": {},
      "outputs": [],
      "source": []
    }
  ],
  "metadata": {
    "colab": {
      "provenance": []
    },
    "kernelspec": {
      "display_name": "base",
      "language": "python",
      "name": "python3"
    },
    "language_info": {
      "codemirror_mode": {
        "name": "ipython",
        "version": 3
      },
      "file_extension": ".py",
      "mimetype": "text/x-python",
      "name": "python",
      "nbconvert_exporter": "python",
      "pygments_lexer": "ipython3",
      "version": "3.11.5"
    }
  },
  "nbformat": 4,
  "nbformat_minor": 0
}
